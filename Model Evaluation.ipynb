{
  "nbformat": 4,
  "nbformat_minor": 0,
  "metadata": {
    "colab": {
      "provenance": [],
      "collapsed_sections": [
        "ox8I51aTioWc",
        "M4zc6IYpqawU",
        "6mh_kznVl3y1",
        "GVhe4H7YmF5G",
        "k4HvIktLrFxI",
        "YDkirLGZjGSa",
        "99X_WDFR4HWr"
      ]
    },
    "kernelspec": {
      "name": "python3",
      "display_name": "Python 3"
    },
    "language_info": {
      "name": "python"
    }
  },
  "cells": [
    {
      "cell_type": "code",
      "execution_count": null,
      "metadata": {
        "id": "GEXjyheAh39a"
      },
      "outputs": [],
      "source": [
        "import pandas as pd\n",
        "import numpy as np\n",
        "import matplotlib.pyplot as plt\n",
        "import seaborn as sns\n",
        "from google.colab import files\n"
      ]
    },
    {
      "cell_type": "code",
      "source": [
        "uploaded = files.upload()"
      ],
      "metadata": {
        "colab": {
          "base_uri": "https://localhost:8080/",
          "height": 74
        },
        "id": "Di5SKLTWiTzc",
        "outputId": "c46b4a73-0758-4513-a7b3-336da1a7d86b"
      },
      "execution_count": null,
      "outputs": [
        {
          "output_type": "display_data",
          "data": {
            "text/plain": [
              "<IPython.core.display.HTML object>"
            ],
            "text/html": [
              "\n",
              "     <input type=\"file\" id=\"files-4a94eb64-5fa3-4c83-b4a8-9b906b1d864b\" name=\"files[]\" multiple disabled\n",
              "        style=\"border:none\" />\n",
              "     <output id=\"result-4a94eb64-5fa3-4c83-b4a8-9b906b1d864b\">\n",
              "      Upload widget is only available when the cell has been executed in the\n",
              "      current browser session. Please rerun this cell to enable.\n",
              "      </output>\n",
              "      <script>// Copyright 2017 Google LLC\n",
              "//\n",
              "// Licensed under the Apache License, Version 2.0 (the \"License\");\n",
              "// you may not use this file except in compliance with the License.\n",
              "// You may obtain a copy of the License at\n",
              "//\n",
              "//      http://www.apache.org/licenses/LICENSE-2.0\n",
              "//\n",
              "// Unless required by applicable law or agreed to in writing, software\n",
              "// distributed under the License is distributed on an \"AS IS\" BASIS,\n",
              "// WITHOUT WARRANTIES OR CONDITIONS OF ANY KIND, either express or implied.\n",
              "// See the License for the specific language governing permissions and\n",
              "// limitations under the License.\n",
              "\n",
              "/**\n",
              " * @fileoverview Helpers for google.colab Python module.\n",
              " */\n",
              "(function(scope) {\n",
              "function span(text, styleAttributes = {}) {\n",
              "  const element = document.createElement('span');\n",
              "  element.textContent = text;\n",
              "  for (const key of Object.keys(styleAttributes)) {\n",
              "    element.style[key] = styleAttributes[key];\n",
              "  }\n",
              "  return element;\n",
              "}\n",
              "\n",
              "// Max number of bytes which will be uploaded at a time.\n",
              "const MAX_PAYLOAD_SIZE = 100 * 1024;\n",
              "\n",
              "function _uploadFiles(inputId, outputId) {\n",
              "  const steps = uploadFilesStep(inputId, outputId);\n",
              "  const outputElement = document.getElementById(outputId);\n",
              "  // Cache steps on the outputElement to make it available for the next call\n",
              "  // to uploadFilesContinue from Python.\n",
              "  outputElement.steps = steps;\n",
              "\n",
              "  return _uploadFilesContinue(outputId);\n",
              "}\n",
              "\n",
              "// This is roughly an async generator (not supported in the browser yet),\n",
              "// where there are multiple asynchronous steps and the Python side is going\n",
              "// to poll for completion of each step.\n",
              "// This uses a Promise to block the python side on completion of each step,\n",
              "// then passes the result of the previous step as the input to the next step.\n",
              "function _uploadFilesContinue(outputId) {\n",
              "  const outputElement = document.getElementById(outputId);\n",
              "  const steps = outputElement.steps;\n",
              "\n",
              "  const next = steps.next(outputElement.lastPromiseValue);\n",
              "  return Promise.resolve(next.value.promise).then((value) => {\n",
              "    // Cache the last promise value to make it available to the next\n",
              "    // step of the generator.\n",
              "    outputElement.lastPromiseValue = value;\n",
              "    return next.value.response;\n",
              "  });\n",
              "}\n",
              "\n",
              "/**\n",
              " * Generator function which is called between each async step of the upload\n",
              " * process.\n",
              " * @param {string} inputId Element ID of the input file picker element.\n",
              " * @param {string} outputId Element ID of the output display.\n",
              " * @return {!Iterable<!Object>} Iterable of next steps.\n",
              " */\n",
              "function* uploadFilesStep(inputId, outputId) {\n",
              "  const inputElement = document.getElementById(inputId);\n",
              "  inputElement.disabled = false;\n",
              "\n",
              "  const outputElement = document.getElementById(outputId);\n",
              "  outputElement.innerHTML = '';\n",
              "\n",
              "  const pickedPromise = new Promise((resolve) => {\n",
              "    inputElement.addEventListener('change', (e) => {\n",
              "      resolve(e.target.files);\n",
              "    });\n",
              "  });\n",
              "\n",
              "  const cancel = document.createElement('button');\n",
              "  inputElement.parentElement.appendChild(cancel);\n",
              "  cancel.textContent = 'Cancel upload';\n",
              "  const cancelPromise = new Promise((resolve) => {\n",
              "    cancel.onclick = () => {\n",
              "      resolve(null);\n",
              "    };\n",
              "  });\n",
              "\n",
              "  // Wait for the user to pick the files.\n",
              "  const files = yield {\n",
              "    promise: Promise.race([pickedPromise, cancelPromise]),\n",
              "    response: {\n",
              "      action: 'starting',\n",
              "    }\n",
              "  };\n",
              "\n",
              "  cancel.remove();\n",
              "\n",
              "  // Disable the input element since further picks are not allowed.\n",
              "  inputElement.disabled = true;\n",
              "\n",
              "  if (!files) {\n",
              "    return {\n",
              "      response: {\n",
              "        action: 'complete',\n",
              "      }\n",
              "    };\n",
              "  }\n",
              "\n",
              "  for (const file of files) {\n",
              "    const li = document.createElement('li');\n",
              "    li.append(span(file.name, {fontWeight: 'bold'}));\n",
              "    li.append(span(\n",
              "        `(${file.type || 'n/a'}) - ${file.size} bytes, ` +\n",
              "        `last modified: ${\n",
              "            file.lastModifiedDate ? file.lastModifiedDate.toLocaleDateString() :\n",
              "                                    'n/a'} - `));\n",
              "    const percent = span('0% done');\n",
              "    li.appendChild(percent);\n",
              "\n",
              "    outputElement.appendChild(li);\n",
              "\n",
              "    const fileDataPromise = new Promise((resolve) => {\n",
              "      const reader = new FileReader();\n",
              "      reader.onload = (e) => {\n",
              "        resolve(e.target.result);\n",
              "      };\n",
              "      reader.readAsArrayBuffer(file);\n",
              "    });\n",
              "    // Wait for the data to be ready.\n",
              "    let fileData = yield {\n",
              "      promise: fileDataPromise,\n",
              "      response: {\n",
              "        action: 'continue',\n",
              "      }\n",
              "    };\n",
              "\n",
              "    // Use a chunked sending to avoid message size limits. See b/62115660.\n",
              "    let position = 0;\n",
              "    do {\n",
              "      const length = Math.min(fileData.byteLength - position, MAX_PAYLOAD_SIZE);\n",
              "      const chunk = new Uint8Array(fileData, position, length);\n",
              "      position += length;\n",
              "\n",
              "      const base64 = btoa(String.fromCharCode.apply(null, chunk));\n",
              "      yield {\n",
              "        response: {\n",
              "          action: 'append',\n",
              "          file: file.name,\n",
              "          data: base64,\n",
              "        },\n",
              "      };\n",
              "\n",
              "      let percentDone = fileData.byteLength === 0 ?\n",
              "          100 :\n",
              "          Math.round((position / fileData.byteLength) * 100);\n",
              "      percent.textContent = `${percentDone}% done`;\n",
              "\n",
              "    } while (position < fileData.byteLength);\n",
              "  }\n",
              "\n",
              "  // All done.\n",
              "  yield {\n",
              "    response: {\n",
              "      action: 'complete',\n",
              "    }\n",
              "  };\n",
              "}\n",
              "\n",
              "scope.google = scope.google || {};\n",
              "scope.google.colab = scope.google.colab || {};\n",
              "scope.google.colab._files = {\n",
              "  _uploadFiles,\n",
              "  _uploadFilesContinue,\n",
              "};\n",
              "})(self);\n",
              "</script> "
            ]
          },
          "metadata": {}
        },
        {
          "output_type": "stream",
          "name": "stdout",
          "text": [
            "Saving Train.csv to Train.csv\n"
          ]
        }
      ]
    },
    {
      "cell_type": "code",
      "source": [
        "df = pd.read_csv('Train.csv')"
      ],
      "metadata": {
        "id": "eUKl1vnzCM3Y"
      },
      "execution_count": null,
      "outputs": []
    },
    {
      "cell_type": "markdown",
      "source": [
        "# 1. Modeling (70 poin)\n",
        "\n",
        "Lakukan modeling sesuai task yang ditentukan di awal dari hasil data yang telah dilakukan preprocessing dan cleaning pada tahapan sebelumnya:"
      ],
      "metadata": {
        "id": "6a8sNnKwiVn8"
      }
    },
    {
      "cell_type": "markdown",
      "source": [
        "# Model 1"
      ],
      "metadata": {
        "id": "O-RMaA9GkAxs"
      }
    },
    {
      "cell_type": "code",
      "source": [
        "# preprocessing umum (hapus duplicate dan handle missing value)\n",
        "\n",
        "# Cek jumlah duplikat row dari semua kolom\n",
        "df.duplicated().sum()"
      ],
      "metadata": {
        "colab": {
          "base_uri": "https://localhost:8080/"
        },
        "id": "rgJrjRB6k0Qz",
        "outputId": "55d195a4-61e1-4c3e-fd9d-bea4b74a844e"
      },
      "execution_count": null,
      "outputs": [
        {
          "output_type": "execute_result",
          "data": {
            "text/plain": [
              "0"
            ]
          },
          "metadata": {},
          "execution_count": 4
        }
      ]
    },
    {
      "cell_type": "code",
      "source": [
        "# cek apakah ada kolom yang terdapat missing value\n",
        "df.isna().sum()"
      ],
      "metadata": {
        "colab": {
          "base_uri": "https://localhost:8080/"
        },
        "id": "NR4sWkr_lNMW",
        "outputId": "1fd6bc31-1762-4f8a-9b85-3b7aa3006c5f"
      },
      "execution_count": null,
      "outputs": [
        {
          "output_type": "execute_result",
          "data": {
            "text/plain": [
              "ID                     0\n",
              "Warehouse_block        0\n",
              "Mode_of_Shipment       0\n",
              "Customer_care_calls    0\n",
              "Customer_rating        0\n",
              "Cost_of_the_Product    0\n",
              "Prior_purchases        0\n",
              "Product_importance     0\n",
              "Gender                 0\n",
              "Discount_offered       0\n",
              "Weight_in_gms          0\n",
              "Reached.on.Time_Y.N    0\n",
              "dtype: int64"
            ]
          },
          "metadata": {},
          "execution_count": 5
        }
      ]
    },
    {
      "cell_type": "markdown",
      "source": [
        "## Preprocessing Data (Tidak diminta di soal namun perlu dilakukan)"
      ],
      "metadata": {
        "id": "ox8I51aTioWc"
      }
    },
    {
      "cell_type": "markdown",
      "source": [
        "### buang fitur yang tidak akan digunakan"
      ],
      "metadata": {
        "id": "M4zc6IYpqawU"
      }
    },
    {
      "cell_type": "code",
      "source": [
        "df = df.drop(columns = 'ID', axis=1)"
      ],
      "metadata": {
        "id": "RER9cUtOqeoi"
      },
      "execution_count": null,
      "outputs": []
    },
    {
      "cell_type": "markdown",
      "source": [
        "### Preprocessing untuk tipe data numeric"
      ],
      "metadata": {
        "id": "6mh_kznVl3y1"
      }
    },
    {
      "cell_type": "code",
      "source": [
        "# melakukan preprocessing untuk data\n",
        "\n",
        "num = ['Customer_care_calls', 'Cost_of_the_Product', 'Prior_purchases', 'Weight_in_gms']\n",
        "plt.figure(figsize=(12,8))\n",
        "\n",
        "for i, column in enumerate (df[num].columns, 1):\n",
        "    plt.subplot(4,4,i)\n",
        "    sns.kdeplot(data=df[num], x=df[column])\n",
        "    plt.tight_layout()"
      ],
      "metadata": {
        "colab": {
          "base_uri": "https://localhost:8080/",
          "height": 169
        },
        "id": "1o5pJiHilcJ7",
        "outputId": "b55ff667-eefd-43b1-d078-b53e3ac21bb4"
      },
      "execution_count": null,
      "outputs": [
        {
          "output_type": "display_data",
          "data": {
            "text/plain": [
              "<Figure size 864x576 with 4 Axes>"
            ],
            "image/png": "[encoded data removed]"
          },
          "metadata": {
            "needs_background": "light"
          }
        }
      ]
    },
    {
      "cell_type": "code",
      "source": [
        "from sklearn.preprocessing import Normalizer\n",
        "num = ['Customer_care_calls', 'Cost_of_the_Product', 'Prior_purchases', 'Weight_in_gms']\n",
        "features = df[num]\n",
        "\n",
        "scaler = Normalizer(norm = 'l2')\n",
        "# norm = 'l2' is default\n",
        "\n",
        "df[num] = scaler.fit_transform(features.values)\n",
        "\n",
        "plt.figure(figsize=(12,8))\n",
        "\n",
        "for i, column in enumerate (df[num].columns, 1):\n",
        "    plt.subplot(4,4,i)\n",
        "    sns.kdeplot(data=df, x=df[column])\n",
        "    plt.tight_layout()"
      ],
      "metadata": {
        "colab": {
          "base_uri": "https://localhost:8080/",
          "height": 169
        },
        "id": "plNwomgJlkOZ",
        "outputId": "4ea1137a-7ae0-4de2-c263-f3fc9816a53c"
      },
      "execution_count": null,
      "outputs": [
        {
          "output_type": "display_data",
          "data": {
            "text/plain": [
              "<Figure size 864x576 with 4 Axes>"
            ],
            "image/png": "[encoded data removed]"
          },
          "metadata": {
            "needs_background": "light"
          }
        }
      ]
    },
    {
      "cell_type": "markdown",
      "source": [
        "### Preprocessing untuk tipe data categorical"
      ],
      "metadata": {
        "id": "GVhe4H7YmF5G"
      }
    },
    {
      "cell_type": "code",
      "source": [
        "# Label Encoding\n",
        "mapping_Product_importance = {\n",
        "    'low' : 0,\n",
        "    'medium' : 1,\n",
        "    'high' : 2\n",
        "}\n",
        "\n",
        "mapping_Gender = {\n",
        "    'F' : 0,\n",
        "    'M' : 1\n",
        "}\n",
        "\n",
        "df['Product_importance'] = df['Product_importance'].map(mapping_Product_importance)\n",
        "df['Gender'] = df['Gender'].map(mapping_Gender)\n",
        "\n",
        "# one hot encoding\n",
        "for cat in ['Mode_of_Shipment', 'Warehouse_block']:\n",
        "    onehots = pd.get_dummies(df[cat], prefix=cat)\n",
        "    df = df.join(onehots)\n",
        "\n",
        "# drop kolom yang di encoding menggunakan OHE : 'Mode_of_Shipment' & 'Warehouse_block'\n",
        "df = df.drop(columns=['Mode_of_Shipment', 'Warehouse_block'])"
      ],
      "metadata": {
        "id": "p0j4FkT7maf1"
      },
      "execution_count": null,
      "outputs": []
    },
    {
      "cell_type": "code",
      "source": [
        "df"
      ],
      "metadata": {
        "id": "yqT4TL_4vm9B",
        "colab": {
          "base_uri": "https://localhost:8080/",
          "height": 487
        },
        "outputId": "99d4e07d-4738-497d-9446-74bcbf400bb5"
      },
      "execution_count": null,
      "outputs": [
        {
          "output_type": "execute_result",
          "data": {
            "text/plain": [
              "       Customer_care_calls  Customer_rating  Cost_of_the_Product  \\\n",
              "0                 0.003211                2             0.142095   \n",
              "1                 0.001292                5             0.069778   \n",
              "2                 0.000592                2             0.054159   \n",
              "3                 0.002521                3             0.147887   \n",
              "4                 0.000803                2             0.073872   \n",
              "...                    ...              ...                  ...   \n",
              "10994             0.002567                1             0.161692   \n",
              "10995             0.003154                1             0.182906   \n",
              "10996             0.004237                4             0.205067   \n",
              "10997             0.004064                2             0.181242   \n",
              "10998             0.001215                5             0.094149   \n",
              "\n",
              "       Prior_purchases  Product_importance  Gender  Discount_offered  \\\n",
              "0             0.002408                   0       0                44   \n",
              "1             0.000646                   0       1                59   \n",
              "2             0.001184                   0       1                48   \n",
              "3             0.003361                   1       1                10   \n",
              "4             0.001204                   1       0                46   \n",
              "...                ...                 ...     ...               ...   \n",
              "10994         0.003208                   1       0                 1   \n",
              "10995         0.003942                   1       0                 6   \n",
              "10996         0.004237                   0       0                 4   \n",
              "10997         0.004876                   1       1                 2   \n",
              "10998         0.003037                   0       0                 6   \n",
              "\n",
              "       Weight_in_gms  Reached.on.Time_Y.N  Mode_of_Shipment_Flight  \\\n",
              "0           0.989845                    1                        1   \n",
              "1           0.997562                    1                        1   \n",
              "2           0.998531                    1                        1   \n",
              "3           0.988995                    1                        1   \n",
              "4           0.997267                    1                        1   \n",
              "...              ...                  ...                      ...   \n",
              "10994       0.986833                    1                        0   \n",
              "10995       0.983118                    0                        0   \n",
              "10996       0.978730                    0                        0   \n",
              "10997       0.983418                    0                        0   \n",
              "10998       0.995553                    0                        0   \n",
              "\n",
              "       Mode_of_Shipment_Road  Mode_of_Shipment_Ship  Warehouse_block_A  \\\n",
              "0                          0                      0                  0   \n",
              "1                          0                      0                  0   \n",
              "2                          0                      0                  1   \n",
              "3                          0                      0                  0   \n",
              "4                          0                      0                  0   \n",
              "...                      ...                    ...                ...   \n",
              "10994                      0                      1                  1   \n",
              "10995                      0                      1                  0   \n",
              "10996                      0                      1                  0   \n",
              "10997                      0                      1                  0   \n",
              "10998                      0                      1                  0   \n",
              "\n",
              "       Warehouse_block_B  Warehouse_block_C  Warehouse_block_D  \\\n",
              "0                      0                  0                  1   \n",
              "1                      0                  0                  0   \n",
              "2                      0                  0                  0   \n",
              "3                      1                  0                  0   \n",
              "4                      0                  1                  0   \n",
              "...                  ...                ...                ...   \n",
              "10994                  0                  0                  0   \n",
              "10995                  1                  0                  0   \n",
              "10996                  0                  1                  0   \n",
              "10997                  0                  0                  0   \n",
              "10998                  0                  0                  1   \n",
              "\n",
              "       Warehouse_block_F  \n",
              "0                      0  \n",
              "1                      1  \n",
              "2                      0  \n",
              "3                      0  \n",
              "4                      0  \n",
              "...                  ...  \n",
              "10994                  0  \n",
              "10995                  0  \n",
              "10996                  0  \n",
              "10997                  1  \n",
              "10998                  0  \n",
              "\n",
              "[10999 rows x 17 columns]"
            ],
            "text/html": [
              "\n",
              "  <div id=\"df-3be41f8d-528c-4c94-a1fa-1478ddf4e03d\">\n",
              "    <div class=\"colab-df-container\">\n",
              "      <div>\n",
              "<style scoped>\n",
              "    .dataframe tbody tr th:only-of-type {\n",
              "        vertical-align: middle;\n",
              "    }\n",
              "\n",
              "    .dataframe tbody tr th {\n",
              "        vertical-align: top;\n",
              "    }\n",
              "\n",
              "    .dataframe thead th {\n",
              "        text-align: right;\n",
              "    }\n",
              "</style>\n",
              "<table border=\"1\" class=\"dataframe\">\n",
              "  <thead>\n",
              "    <tr style=\"text-align: right;\">\n",
              "      <th></th>\n",
              "      <th>Customer_care_calls</th>\n",
              "      <th>Customer_rating</th>\n",
              "      <th>Cost_of_the_Product</th>\n",
              "      <th>Prior_purchases</th>\n",
              "      <th>Product_importance</th>\n",
              "      <th>Gender</th>\n",
              "      <th>Discount_offered</th>\n",
              "      <th>Weight_in_gms</th>\n",
              "      <th>Reached.on.Time_Y.N</th>\n",
              "      <th>Mode_of_Shipment_Flight</th>\n",
              "      <th>Mode_of_Shipment_Road</th>\n",
              "      <th>Mode_of_Shipment_Ship</th>\n",
              "      <th>Warehouse_block_A</th>\n",
              "      <th>Warehouse_block_B</th>\n",
              "      <th>Warehouse_block_C</th>\n",
              "      <th>Warehouse_block_D</th>\n",
              "      <th>Warehouse_block_F</th>\n",
              "    </tr>\n",
              "  </thead>\n",
              "  <tbody>\n",
              "    <tr>\n",
              "      <th>0</th>\n",
              "      <td>0.003211</td>\n",
              "      <td>2</td>\n",
              "      <td>0.142095</td>\n",
              "      <td>0.002408</td>\n",
              "      <td>0</td>\n",
              "      <td>0</td>\n",
              "      <td>44</td>\n",
              "      <td>0.989845</td>\n",
              "      <td>1</td>\n",
              "      <td>1</td>\n",
              "      <td>0</td>\n",
              "      <td>0</td>\n",
              "      <td>0</td>\n",
              "      <td>0</td>\n",
              "      <td>0</td>\n",
              "      <td>1</td>\n",
              "      <td>0</td>\n",
              "    </tr>\n",
              "    <tr>\n",
              "      <th>1</th>\n",
              "      <td>0.001292</td>\n",
              "      <td>5</td>\n",
              "      <td>0.069778</td>\n",
              "      <td>0.000646</td>\n",
              "      <td>0</td>\n",
              "      <td>1</td>\n",
              "      <td>59</td>\n",
              "      <td>0.997562</td>\n",
              "      <td>1</td>\n",
              "      <td>1</td>\n",
              "      <td>0</td>\n",
              "      <td>0</td>\n",
              "      <td>0</td>\n",
              "      <td>0</td>\n",
              "      <td>0</td>\n",
              "      <td>0</td>\n",
              "      <td>1</td>\n",
              "    </tr>\n",
              "    <tr>\n",
              "      <th>2</th>\n",
              "      <td>0.000592</td>\n",
              "      <td>2</td>\n",
              "      <td>0.054159</td>\n",
              "      <td>0.001184</td>\n",
              "      <td>0</td>\n",
              "      <td>1</td>\n",
              "      <td>48</td>\n",
              "      <td>0.998531</td>\n",
              "      <td>1</td>\n",
              "      <td>1</td>\n",
              "      <td>0</td>\n",
              "      <td>0</td>\n",
              "      <td>1</td>\n",
              "      <td>0</td>\n",
              "      <td>0</td>\n",
              "      <td>0</td>\n",
              "      <td>0</td>\n",
              "    </tr>\n",
              "    <tr>\n",
              "      <th>3</th>\n",
              "      <td>0.002521</td>\n",
              "      <td>3</td>\n",
              "      <td>0.147887</td>\n",
              "      <td>0.003361</td>\n",
              "      <td>1</td>\n",
              "      <td>1</td>\n",
              "      <td>10</td>\n",
              "      <td>0.988995</td>\n",
              "      <td>1</td>\n",
              "      <td>1</td>\n",
              "      <td>0</td>\n",
              "      <td>0</td>\n",
              "      <td>0</td>\n",
              "      <td>1</td>\n",
              "      <td>0</td>\n",
              "      <td>0</td>\n",
              "      <td>0</td>\n",
              "    </tr>\n",
              "    <tr>\n",
              "      <th>4</th>\n",
              "      <td>0.000803</td>\n",
              "      <td>2</td>\n",
              "      <td>0.073872</td>\n",
              "      <td>0.001204</td>\n",
              "      <td>1</td>\n",
              "      <td>0</td>\n",
              "      <td>46</td>\n",
              "      <td>0.997267</td>\n",
              "      <td>1</td>\n",
              "      <td>1</td>\n",
              "      <td>0</td>\n",
              "      <td>0</td>\n",
              "      <td>0</td>\n",
              "      <td>0</td>\n",
              "      <td>1</td>\n",
              "      <td>0</td>\n",
              "      <td>0</td>\n",
              "    </tr>\n",
              "    <tr>\n",
              "      <th>...</th>\n",
              "      <td>...</td>\n",
              "      <td>...</td>\n",
              "      <td>...</td>\n",
              "      <td>...</td>\n",
              "      <td>...</td>\n",
              "      <td>...</td>\n",
              "      <td>...</td>\n",
              "      <td>...</td>\n",
              "      <td>...</td>\n",
              "      <td>...</td>\n",
              "      <td>...</td>\n",
              "      <td>...</td>\n",
              "      <td>...</td>\n",
              "      <td>...</td>\n",
              "      <td>...</td>\n",
              "      <td>...</td>\n",
              "      <td>...</td>\n",
              "    </tr>\n",
              "    <tr>\n",
              "      <th>10994</th>\n",
              "      <td>0.002567</td>\n",
              "      <td>1</td>\n",
              "      <td>0.161692</td>\n",
              "      <td>0.003208</td>\n",
              "      <td>1</td>\n",
              "      <td>0</td>\n",
              "      <td>1</td>\n",
              "      <td>0.986833</td>\n",
              "      <td>1</td>\n",
              "      <td>0</td>\n",
              "      <td>0</td>\n",
              "      <td>1</td>\n",
              "      <td>1</td>\n",
              "      <td>0</td>\n",
              "      <td>0</td>\n",
              "      <td>0</td>\n",
              "      <td>0</td>\n",
              "    </tr>\n",
              "    <tr>\n",
              "      <th>10995</th>\n",
              "      <td>0.003154</td>\n",
              "      <td>1</td>\n",
              "      <td>0.182906</td>\n",
              "      <td>0.003942</td>\n",
              "      <td>1</td>\n",
              "      <td>0</td>\n",
              "      <td>6</td>\n",
              "      <td>0.983118</td>\n",
              "      <td>0</td>\n",
              "      <td>0</td>\n",
              "      <td>0</td>\n",
              "      <td>1</td>\n",
              "      <td>0</td>\n",
              "      <td>1</td>\n",
              "      <td>0</td>\n",
              "      <td>0</td>\n",
              "      <td>0</td>\n",
              "    </tr>\n",
              "    <tr>\n",
              "      <th>10996</th>\n",
              "      <td>0.004237</td>\n",
              "      <td>4</td>\n",
              "      <td>0.205067</td>\n",
              "      <td>0.004237</td>\n",
              "      <td>0</td>\n",
              "      <td>0</td>\n",
              "      <td>4</td>\n",
              "      <td>0.978730</td>\n",
              "      <td>0</td>\n",
              "      <td>0</td>\n",
              "      <td>0</td>\n",
              "      <td>1</td>\n",
              "      <td>0</td>\n",
              "      <td>0</td>\n",
              "      <td>1</td>\n",
              "      <td>0</td>\n",
              "      <td>0</td>\n",
              "    </tr>\n",
              "    <tr>\n",
              "      <th>10997</th>\n",
              "      <td>0.004064</td>\n",
              "      <td>2</td>\n",
              "      <td>0.181242</td>\n",
              "      <td>0.004876</td>\n",
              "      <td>1</td>\n",
              "      <td>1</td>\n",
              "      <td>2</td>\n",
              "      <td>0.983418</td>\n",
              "      <td>0</td>\n",
              "      <td>0</td>\n",
              "      <td>0</td>\n",
              "      <td>1</td>\n",
              "      <td>0</td>\n",
              "      <td>0</td>\n",
              "      <td>0</td>\n",
              "      <td>0</td>\n",
              "      <td>1</td>\n",
              "    </tr>\n",
              "    <tr>\n",
              "      <th>10998</th>\n",
              "      <td>0.001215</td>\n",
              "      <td>5</td>\n",
              "      <td>0.094149</td>\n",
              "      <td>0.003037</td>\n",
              "      <td>0</td>\n",
              "      <td>0</td>\n",
              "      <td>6</td>\n",
              "      <td>0.995553</td>\n",
              "      <td>0</td>\n",
              "      <td>0</td>\n",
              "      <td>0</td>\n",
              "      <td>1</td>\n",
              "      <td>0</td>\n",
              "      <td>0</td>\n",
              "      <td>0</td>\n",
              "      <td>1</td>\n",
              "      <td>0</td>\n",
              "    </tr>\n",
              "  </tbody>\n",
              "</table>\n",
              "<p>10999 rows × 17 columns</p>\n",
              "</div>\n",
              "      <button class=\"colab-df-convert\" onclick=\"convertToInteractive('df-3be41f8d-528c-4c94-a1fa-1478ddf4e03d')\"\n",
              "              title=\"Convert this dataframe to an interactive table.\"\n",
              "              style=\"display:none;\">\n",
              "        \n",
              "  <svg xmlns=\"http://www.w3.org/2000/svg\" height=\"24px\"viewBox=\"0 0 24 24\"\n",
              "       width=\"24px\">\n",
              "    <path d=\"M0 0h24v24H0V0z\" fill=\"none\"/>\n",
              "    <path d=\"M18.56 5.44l.94 2.06.94-2.06 2.06-.94-2.06-.94-.94-2.06-.94 2.06-2.06.94zm-11 1L8.5 8.5l.94-2.06 2.06-.94-2.06-.94L8.5 2.5l-.94 2.06-2.06.94zm10 10l.94 2.06.94-2.06 2.06-.94-2.06-.94-.94-2.06-.94 2.06-2.06.94z\"/><path d=\"M17.41 7.96l-1.37-1.37c-.4-.4-.92-.59-1.43-.59-.52 0-1.04.2-1.43.59L10.3 9.45l-7.72 7.72c-.78.78-.78 2.05 0 2.83L4 21.41c.39.39.9.59 1.41.59.51 0 1.02-.2 1.41-.59l7.78-7.78 2.81-2.81c.8-.78.8-2.07 0-2.86zM5.41 20L4 18.59l7.72-7.72 1.47 1.35L5.41 20z\"/>\n",
              "  </svg>\n",
              "      </button>\n",
              "      \n",
              "  <style>\n",
              "    .colab-df-container {\n",
              "      display:flex;\n",
              "      flex-wrap:wrap;\n",
              "      gap: 12px;\n",
              "    }\n",
              "\n",
              "    .colab-df-convert {\n",
              "      background-color: #E8F0FE;\n",
              "      border: none;\n",
              "      border-radius: 50%;\n",
              "      cursor: pointer;\n",
              "      display: none;\n",
              "      fill: #1967D2;\n",
              "      height: 32px;\n",
              "      padding: 0 0 0 0;\n",
              "      width: 32px;\n",
              "    }\n",
              "\n",
              "    .colab-df-convert:hover {\n",
              "      background-color: #E2EBFA;\n",
              "      box-shadow: 0px 1px 2px rgba(60, 64, 67, 0.3), 0px 1px 3px 1px rgba(60, 64, 67, 0.15);\n",
              "      fill: #174EA6;\n",
              "    }\n",
              "\n",
              "    [theme=dark] .colab-df-convert {\n",
              "      background-color: #3B4455;\n",
              "      fill: #D2E3FC;\n",
              "    }\n",
              "\n",
              "    [theme=dark] .colab-df-convert:hover {\n",
              "      background-color: #434B5C;\n",
              "      box-shadow: 0px 1px 3px 1px rgba(0, 0, 0, 0.15);\n",
              "      filter: drop-shadow(0px 1px 2px rgba(0, 0, 0, 0.3));\n",
              "      fill: #FFFFFF;\n",
              "    }\n",
              "  </style>\n",
              "\n",
              "      <script>\n",
              "        const buttonEl =\n",
              "          document.querySelector('#df-3be41f8d-528c-4c94-a1fa-1478ddf4e03d button.colab-df-convert');\n",
              "        buttonEl.style.display =\n",
              "          google.colab.kernel.accessAllowed ? 'block' : 'none';\n",
              "\n",
              "        async function convertToInteractive(key) {\n",
              "          const element = document.querySelector('#df-3be41f8d-528c-4c94-a1fa-1478ddf4e03d');\n",
              "          const dataTable =\n",
              "            await google.colab.kernel.invokeFunction('convertToInteractive',\n",
              "                                                     [key], {});\n",
              "          if (!dataTable) return;\n",
              "\n",
              "          const docLinkHtml = 'Like what you see? Visit the ' +\n",
              "            '<a target=\"_blank\" href=https://colab.research.google.com/notebooks/data_table.ipynb>data table notebook</a>'\n",
              "            + ' to learn more about interactive tables.';\n",
              "          element.innerHTML = '';\n",
              "          dataTable['output_type'] = 'display_data';\n",
              "          await google.colab.output.renderOutput(dataTable, element);\n",
              "          const docLink = document.createElement('div');\n",
              "          docLink.innerHTML = docLinkHtml;\n",
              "          element.appendChild(docLink);\n",
              "        }\n",
              "      </script>\n",
              "    </div>\n",
              "  </div>\n",
              "  "
            ]
          },
          "metadata": {},
          "execution_count": 10
        }
      ]
    },
    {
      "cell_type": "markdown",
      "source": [
        "## A. Split Data Train & Test"
      ],
      "metadata": {
        "id": "k4HvIktLrFxI"
      }
    },
    {
      "cell_type": "code",
      "source": [
        "from sklearn.model_selection import train_test_split\n",
        "\n",
        "x = df.drop(columns=['Reached.on.Time_Y.N'], axis=1)\n",
        "y = df['Reached.on.Time_Y.N']\n",
        "\n",
        "x_train, x_test, y_train, y_test = train_test_split(x, y, test_size=0.2, random_state=42)"
      ],
      "metadata": {
        "id": "WZG9yAhQrKSA"
      },
      "execution_count": null,
      "outputs": []
    },
    {
      "cell_type": "markdown",
      "source": [
        "### Preprocessing data train lanjutan"
      ],
      "metadata": {
        "id": "dK1j7YnPrNth"
      }
    },
    {
      "cell_type": "code",
      "source": [
        "y_train.value_counts(normalize=True)"
      ],
      "metadata": {
        "colab": {
          "base_uri": "https://localhost:8080/"
        },
        "id": "aLcH8v6orW6G",
        "outputId": "3010b024-d0ec-48ec-ac55-531ef4bc8156"
      },
      "execution_count": null,
      "outputs": [
        {
          "output_type": "execute_result",
          "data": {
            "text/plain": [
              "1    0.597568\n",
              "0    0.402432\n",
              "Name: Reached.on.Time_Y.N, dtype: float64"
            ]
          },
          "metadata": {},
          "execution_count": 12
        }
      ]
    },
    {
      "cell_type": "code",
      "source": [
        "# oversampling\n",
        "from imblearn.over_sampling import SMOTE\n",
        "sm = SMOTE(random_state = 2)\n",
        "x_over, y_over = sm.fit_resample(x_train, y_train.ravel())"
      ],
      "metadata": {
        "id": "jUnddC5krnbu"
      },
      "execution_count": null,
      "outputs": []
    },
    {
      "cell_type": "markdown",
      "source": [
        "## B. Modeling"
      ],
      "metadata": {
        "id": "YDkirLGZjGSa"
      }
    },
    {
      "cell_type": "code",
      "source": [
        "from sklearn.metrics import accuracy_score, recall_score, roc_auc_score, precision_score, f1_score\n",
        "from sklearn.ensemble import StackingClassifier\n",
        "from sklearn.linear_model import LogisticRegression\n",
        "from sklearn.neighbors import KNeighborsClassifier\n",
        "from sklearn.tree import DecisionTreeClassifier\n",
        "from sklearn.ensemble import RandomForestClassifier\n",
        "from sklearn.svm import SVC\n",
        "from sklearn.naive_bayes import GaussianNB\n",
        "from xgboost import XGBClassifier\n",
        "from lightgbm import LGBMClassifier\n",
        "from sklearn.ensemble import AdaBoostClassifier\n",
        "\n",
        "def algorithm_pipeline(X_train_data, X_test_data, y_train_data, y_test_data, model):\n",
        "  best_model = model\n",
        "  model.fit(X_train_data, y_train_data)\n",
        "  \n",
        "  pred = model.predict(X_test_data)\n",
        "  score = roc_auc_score(y_test_data, pred)\n",
        "  return [best_model, pred, score]\n",
        "\n",
        "models_to_train = [LogisticRegression(), \n",
        "                   KNeighborsClassifier(), \n",
        "                   DecisionTreeClassifier(), \n",
        "                   RandomForestClassifier(), \n",
        "                   AdaBoostClassifier(), \n",
        "                   XGBClassifier(),\n",
        "                   LGBMClassifier()\n",
        "                  ]\n",
        "\n",
        "models_preds_scores = []\n",
        "\n",
        "for i, model in enumerate(models_to_train):\n",
        "    result = algorithm_pipeline(x_over, x_test, y_over, y_test,  model)\n",
        "    models_preds_scores.append(result)\n",
        "\n",
        "for result in models_preds_scores:\n",
        "    print('Model: {0}, Score: {1}'.format(type(result[0]).__name__, result[2])) # score in training data"
      ],
      "metadata": {
        "colab": {
          "base_uri": "https://localhost:8080/"
        },
        "id": "lzc8rpfXjOxm",
        "outputId": "0a4dec0e-d66f-493f-eb12-2ead50451eb8"
      },
      "execution_count": null,
      "outputs": [
        {
          "output_type": "stream",
          "name": "stderr",
          "text": [
            "/usr/local/lib/python3.7/dist-packages/sklearn/linear_model/_logistic.py:818: ConvergenceWarning: lbfgs failed to converge (status=1):\n",
            "STOP: TOTAL NO. of ITERATIONS REACHED LIMIT.\n",
            "\n",
            "Increase the number of iterations (max_iter) or scale the data as shown in:\n",
            "    https://scikit-learn.org/stable/modules/preprocessing.html\n",
            "Please also refer to the documentation for alternative solver options:\n",
            "    https://scikit-learn.org/stable/modules/linear_model.html#logistic-regression\n",
            "  extra_warning_msg=_LOGISTIC_SOLVER_CONVERGENCE_MSG,\n"
          ]
        },
        {
          "output_type": "stream",
          "name": "stdout",
          "text": [
            "Model: LogisticRegression, Score: 0.6738478991416769\n",
            "Model: KNeighborsClassifier, Score: 0.6359125837453713\n",
            "Model: DecisionTreeClassifier, Score: 0.6211712579464458\n",
            "Model: RandomForestClassifier, Score: 0.6940752156510199\n",
            "Model: AdaBoostClassifier, Score: 0.7159999143817292\n",
            "Model: XGBClassifier, Score: 0.7185855861640874\n",
            "Model: LGBMClassifier, Score: 0.6969455681842506\n"
          ]
        }
      ]
    },
    {
      "cell_type": "markdown",
      "source": [
        "Dari data diatas didapatkan bahwa XGBoost merupakan model terbaik dengan nilai ROC_AUC 71,85%"
      ],
      "metadata": {
        "id": "TPDDjJnSoo7-"
      }
    },
    {
      "cell_type": "code",
      "source": [
        "XGB = XGBClassifier()\n",
        "XGB.fit(x_over, y_over)"
      ],
      "metadata": {
        "colab": {
          "base_uri": "https://localhost:8080/"
        },
        "id": "fEWHIS3CowQa",
        "outputId": "80f87301-dd65-4204-cc35-2eb48075346d"
      },
      "execution_count": null,
      "outputs": [
        {
          "output_type": "execute_result",
          "data": {
            "text/plain": [
              "XGBClassifier()"
            ]
          },
          "metadata": {},
          "execution_count": 16
        }
      ]
    },
    {
      "cell_type": "markdown",
      "source": [
        "## C. Model Evaluation : Pemilihan dan perhitungan metrics model"
      ],
      "metadata": {
        "id": "99X_WDFR4HWr"
      }
    },
    {
      "cell_type": "code",
      "source": [
        "def eval_classification(model):\n",
        "    y_pred = model.predict(x_test)\n",
        "    y_pred_train = model.predict(x_over)\n",
        "  \n",
        "    \n",
        "    print(\"Accuracy (Test Set): %.2f\" % accuracy_score(y_test, y_pred))\n",
        "    print(\"Precision (Test Set): %.2f\" % precision_score(y_test, y_pred))\n",
        "    print(\"Recall (Test Set): %.2f\" % recall_score(y_test, y_pred))\n",
        "    print(\"F1-Score (Test Set): %.2f\" % f1_score(y_test, y_pred))\n",
        "    \n",
        "    print(\"roc_auc (test-proba): %.2f\" % roc_auc_score(y_test, y_pred))\n",
        "    print(\"roc_auc (train-proba): %.2f\" % roc_auc_score(y_over, y_pred_train))\n",
        "    \n",
        "def confusionmatrix(predictions):\n",
        "    cm = confusion_matrix(y_test, predictions)\n",
        "    disp = ConfusionMatrixDisplay(confusion_matrix=cm)\n",
        "    return disp.plot()"
      ],
      "metadata": {
        "id": "ltkFJ4s4plCY"
      },
      "execution_count": null,
      "outputs": []
    },
    {
      "cell_type": "code",
      "source": [
        "eval_classification(XGB)"
      ],
      "metadata": {
        "colab": {
          "base_uri": "https://localhost:8080/"
        },
        "id": "y8q8jegEp34q",
        "outputId": "8baa62e8-b7ad-4dc6-8e87-6abf50a82fa0"
      },
      "execution_count": null,
      "outputs": [
        {
          "output_type": "stream",
          "name": "stdout",
          "text": [
            "Accuracy (Test Set): 0.67\n",
            "Precision (Test Set): 0.95\n",
            "Recall (Test Set): 0.48\n",
            "F1-Score (Test Set): 0.63\n",
            "roc_auc (test-proba): 0.72\n",
            "roc_auc (train-proba): 0.73\n"
          ]
        }
      ]
    },
    {
      "cell_type": "code",
      "source": [
        "import xgboost as xgb\n",
        "from sklearn.metrics import classification_report, confusion_matrix, ConfusionMatrixDisplay\n",
        "\n",
        "predictions = XGB.predict(x_test)\n",
        "confusionmatrix(predictions)"
      ],
      "metadata": {
        "colab": {
          "base_uri": "https://localhost:8080/",
          "height": 297
        },
        "id": "9aOKAhDqwzSQ",
        "outputId": "1dc548be-c733-4184-bee1-d12bf601c59a"
      },
      "execution_count": null,
      "outputs": [
        {
          "output_type": "execute_result",
          "data": {
            "text/plain": [
              "<sklearn.metrics._plot.confusion_matrix.ConfusionMatrixDisplay at 0x7f4f480f9b90>"
            ]
          },
          "metadata": {},
          "execution_count": 19
        },
        {
          "output_type": "display_data",
          "data": {
            "text/plain": [
              "<Figure size 432x288 with 2 Axes>"
            ],
            "image/png": "[encoded data removed]"
          },
          "metadata": {
            "needs_background": "light"
          }
        }
      ]
    },
    {
      "cell_type": "markdown",
      "source": [
        "## D. Model Evaluation: Apakah model sudah best-fit? Hindari Overfit/Underfit. Validasi dengan cross-validation\n"
      ],
      "metadata": {
        "id": "DB9CcT-XL6J9"
      }
    },
    {
      "cell_type": "code",
      "source": [
        "cross_validation = XGBClassifier(cv=5)\n",
        "cross_validation.fit(x_over, y_over)\n",
        "\n",
        "eval_classification(cross_validation)"
      ],
      "metadata": {
        "colab": {
          "base_uri": "https://localhost:8080/"
        },
        "id": "VKvcAeCCtOdq",
        "outputId": "c50694d7-1b2b-4862-fce0-1144f18f1f02"
      },
      "execution_count": null,
      "outputs": [
        {
          "output_type": "stream",
          "name": "stdout",
          "text": [
            "Accuracy (Test Set): 0.67\n",
            "Precision (Test Set): 0.95\n",
            "Recall (Test Set): 0.48\n",
            "F1-Score (Test Set): 0.63\n",
            "roc_auc (test-proba): 0.72\n",
            "roc_auc (train-proba): 0.73\n"
          ]
        }
      ]
    },
    {
      "cell_type": "markdown",
      "source": [
        "## E. Hyperparameter Tuning\n"
      ],
      "metadata": {
        "id": "txh3txVfx2gF"
      }
    },
    {
      "cell_type": "code",
      "source": [
        "from sklearn.model_selection import RandomizedSearchCV, GridSearchCV\n",
        "import numpy as np\n",
        "\n",
        "#Menjadikan ke dalam bentuk dictionary\n",
        "hyperparameters = {\n",
        "                    'max_depth' : [int(x) for x in np.linspace(10, 110, num = 11)],\n",
        "                    'min_child_weight' : [int(x) for x in np.linspace(1, 20, num = 11)],\n",
        "                    'gamma' : [float(x) for x in np.linspace(0, 1, num = 11)],\n",
        "                    'tree_method' : ['auto', 'exact', 'approx', 'hist'],\n",
        "\n",
        "                    'colsample_bytree' : [float(x) for x in np.linspace(0, 1, num = 11)],\n",
        "                    'eta' : [float(x) for x in np.linspace(0, 1, num = 100)],\n",
        "\n",
        "                    'lambda' : [float(x) for x in np.linspace(0, 1, num = 11)],\n",
        "                    'alpha' : [float(x) for x in np.linspace(0, 1, num = 11)]\n",
        "                    }\n",
        "\n",
        "# Init\n",
        "from xgboost import XGBClassifier\n",
        "xg = XGBClassifier(random_state=42)\n",
        "xg_tuned = RandomizedSearchCV(xg, hyperparameters, cv=5, random_state=42, scoring='precision')\n",
        "xg_tuned.fit(x_over,y_over)\n",
        "\n",
        "# Predict & Evaluation\n",
        "eval_classification(xg_tuned)"
      ],
      "metadata": {
        "id": "dF8G5mgkx44c",
        "colab": {
          "base_uri": "https://localhost:8080/"
        },
        "outputId": "432389e8-39e4-4eb0-e187-bb22eefe79e8"
      },
      "execution_count": null,
      "outputs": [
        {
          "output_type": "stream",
          "name": "stdout",
          "text": [
            "Accuracy (Test Set): 0.68\n",
            "Precision (Test Set): 0.88\n",
            "Recall (Test Set): 0.53\n",
            "F1-Score (Test Set): 0.66\n",
            "roc_auc (test-proba): 0.71\n",
            "roc_auc (train-proba): 0.77\n"
          ]
        }
      ]
    },
    {
      "cell_type": "code",
      "source": [
        "predictions = xg_tuned.predict(x_test)\n",
        "confusionmatrix(predictions)"
      ],
      "metadata": {
        "colab": {
          "base_uri": "https://localhost:8080/",
          "height": 297
        },
        "id": "4DJSEodfzHe_",
        "outputId": "18238bd7-1633-4d2f-fad1-07cddb6151d0"
      },
      "execution_count": null,
      "outputs": [
        {
          "output_type": "execute_result",
          "data": {
            "text/plain": [
              "<sklearn.metrics._plot.confusion_matrix.ConfusionMatrixDisplay at 0x7f91189a6e10>"
            ]
          },
          "metadata": {},
          "execution_count": 28
        },
        {
          "output_type": "display_data",
          "data": {
            "text/plain": [
              "<Figure size 432x288 with 2 Axes>"
            ],
            "image/png": "[encoded data removed]"
          },
          "metadata": {
            "needs_background": "light"
          }
        }
      ]
    },
    {
      "cell_type": "markdown",
      "source": [
        "# 2.Feature Importance (Model Terbaik)"
      ],
      "metadata": {
        "id": "f9WXPsX9oiNt"
      }
    },
    {
      "cell_type": "code",
      "source": [
        "feature_important = XGB.get_booster().get_score(importance_type='weight')\n",
        "keys = list(feature_important.keys())\n",
        "values = list(feature_important.values())\n",
        "\n",
        "data = pd.DataFrame(data=values, index=keys, columns=[\"score\"]).sort_values(by = \"score\", ascending=True)\n",
        "data.nlargest(40, columns=\"score\").plot(kind='barh', figsize = (20,10)) ## plot top 40 features"
      ],
      "metadata": {
        "colab": {
          "base_uri": "https://localhost:8080/",
          "height": 610
        },
        "id": "9_-yhwZhyFx0",
        "outputId": "6496f8f8-56e1-4169-a3b5-81716ecb1cca"
      },
      "execution_count": null,
      "outputs": [
        {
          "output_type": "execute_result",
          "data": {
            "text/plain": [
              "<matplotlib.axes._subplots.AxesSubplot at 0x7f4f47461990>"
            ]
          },
          "metadata": {},
          "execution_count": 22
        },
        {
          "output_type": "display_data",
          "data": {
            "text/plain": [
              "<Figure size 1440x720 with 1 Axes>"
            ],
            "image/png": "[encoded data removed]"
          },
          "metadata": {
            "needs_background": "light"
          }
        }
      ]
    },
    {
      "cell_type": "markdown",
      "source": [
        "*Pada* modeling ini kita memilih model terbaik yaitu XGBClassifier, model ini memiliki nilai precision 88% setelah kita hyperparameter tuning. <br>\n",
        "\n",
        "Fitur penting yang digunakan dalam modelling:\n",
        "\n",
        "- hampir semuanya feature digunakan pada modeling kecuali ID\n",
        "\n",
        "\n",
        "Business Insight\n",
        "\n",
        "1. Cukup banyak keterlambatan yang terjadi pada pesanan barang dengan diskon diatas 10%. \n",
        "2. Berat barang pada rentang 2-4 kg mengalami keterlambatan yang terlampau sering.\n",
        "3. Terjadi penumpukan barang di Warehous F, sehingga terjadi banyaknya barang yang telat dari warehouse F\n",
        "4. Jumlah Customer care calls mempengaruhi apakah barang akan terlambat atau tidak, dimana berdasarkan pengerjaan tugas yang lalu semakin banyak customer care calls yang dilakukan pelanggan maka potensi barang datang terlambat cukup besar.\n",
        "\n",
        "Solusi:\n",
        "1. Notifikasi otomatis melalui pesan singkat atau media telekomunikasi lainnya apabila pengiriman diprediksi akan terlambat.\n",
        "2. Sebagai ganti rugi atas keterlambatan pengiriman, perusahaan dapat memberikan kupon gratis. Misalnya, kupon gratis ongkir hingga X nominal.\n",
        "3. Memberikan Rekomendasi kepada customer Mode of Shipment berdasarkan berat dan product importance.\n",
        "4. Mengkoordinir setiap warehouse supaya tidak terjadi penumpukan barang di setiap warehousenya, sehingga barang keluar warehouse tidak banyak birokrasi yang berbelit-belit.\n",
        "5. Sebelum mengirimkan barang, maka alangkah baiknya diuji terlebih dahulu apakah barang akan terlambat atau tidak, jika terlambat maka estimasi waktu pengiriman dapat ditambah."
      ],
      "metadata": {
        "id": "vg0dEk2homCO"
      }
    }
  ]
}